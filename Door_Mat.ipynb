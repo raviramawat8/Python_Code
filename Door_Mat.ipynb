{
 "cells": [
  {
   "cell_type": "markdown",
   "metadata": {},
   "source": [
    "# Door_Mat"
   ]
  },
  {
   "cell_type": "code",
   "execution_count": 5,
   "metadata": {},
   "outputs": [
    {
     "name": "stdout",
     "output_type": "stream",
     "text": [
      "Enter the no of rows7\n",
      "---------.|.---------\n",
      "------"
     ]
    }
   ],
   "source": [
    "#DOOR_MAT\n",
    "x = int(input(\"Enter the no of rows\"))\n",
    "y = 3 * x\n",
    "if not( x % 2 ) :\n",
    "    x += 1\n",
    "for row in range(1,x+1):\n",
    "    if row == 1 :\n",
    "        print(\"-\"*(y//2-1), end = \"\")\n",
    "        print(\".\",end = \"\")\n",
    "        print(\"|\",end = \"\")\n",
    "        print(\".\",end = \"\")\n",
    "        print(\"-\"*(y//2-1))\n",
    "    if row == 2 :\n",
    "        print(\"-\"*(y//2-4), end = \"\")\n",
    "        print(\".|.\"*x+1,end = \"\")"
   ]
  },
  {
   "cell_type": "code",
   "execution_count": null,
   "metadata": {
    "collapsed": true
   },
   "outputs": [],
   "source": []
  }
 ],
 "metadata": {
  "kernelspec": {
   "display_name": "Python 3",
   "language": "python",
   "name": "python3"
  },
  "language_info": {
   "codemirror_mode": {
    "name": "ipython",
    "version": 3
   },
   "file_extension": ".py",
   "mimetype": "text/x-python",
   "name": "python",
   "nbconvert_exporter": "python",
   "pygments_lexer": "ipython3",
   "version": "3.6.3"
  }
 },
 "nbformat": 4,
 "nbformat_minor": 2
}
