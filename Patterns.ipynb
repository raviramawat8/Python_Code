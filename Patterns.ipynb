{
 "cells": [
  {
   "cell_type": "code",
   "execution_count": 27,
   "metadata": {},
   "outputs": [
    {
     "name": "stdout",
     "output_type": "stream",
     "text": [
      "Enter no. of lines5\n",
      " * \n",
      "\n",
      " *  * \n",
      "\n",
      " *  *  * \n",
      "\n",
      " *  *  *  * \n",
      "\n",
      " *  *  *  *  * \n",
      "\n"
     ]
    }
   ],
   "source": [
    "x = int(input(\"Enter no. of lines\"))\n",
    "for i in range(0,x):\n",
    "    for j in range(0,i+1):\n",
    "        print(\" * \",end=\"\")\n",
    "    print(\"\\n\")"
   ]
  },
  {
   "cell_type": "code",
   "execution_count": 26,
   "metadata": {},
   "outputs": [
    {
     "name": "stdout",
     "output_type": "stream",
     "text": [
      "Enter no. of lines5\n",
      " *  *  *  *  * \n",
      "\n",
      " *  *  *  * \n",
      "\n",
      " *  *  * \n",
      "\n",
      " *  * \n",
      "\n",
      " * \n",
      "\n"
     ]
    }
   ],
   "source": [
    "x = int(input(\"Enter no. of lines\"))\n",
    "for i in range(x,0,-1):\n",
    "    for j in range(i,0,-1):\n",
    "        print(\" * \",end=\"\")\n",
    "    print(\"\\n\")"
   ]
  },
  {
   "cell_type": "code",
   "execution_count": 8,
   "metadata": {},
   "outputs": [
    {
     "name": "stdout",
     "output_type": "stream",
     "text": [
      "Enter no. of lines10\n",
      "          *\n",
      "         **\n",
      "        ***\n",
      "       ****\n",
      "      *****\n",
      "     ******\n",
      "    *******\n",
      "   ********\n",
      "  *********\n",
      " **********\n"
     ]
    }
   ],
   "source": [
    "x = int(input(\"Enter no. of lines\"))\n",
    "k = x\n",
    "for i in range(0,x):\n",
    "    for j in range(0,k):\n",
    "        print(end=\" \")\n",
    "    k -= 1\n",
    "    for j in range(0,i+1):\n",
    "            print(\"*\",end=\"\")\n",
    "    print(\"\")"
   ]
  },
  {
   "cell_type": "code",
   "execution_count": 6,
   "metadata": {},
   "outputs": [
    {
     "name": "stdout",
     "output_type": "stream",
     "text": [
      "Enter no. of lines5\n",
      "        * \n",
      "       * * \n",
      "      * * * \n",
      "     * * * * \n",
      "    * * * * * \n"
     ]
    }
   ],
   "source": [
    "x = int(input(\"Enter no. of lines\"))\n",
    "k = 8\n",
    "for i in range(0,x):\n",
    "    for j in range(0,k):\n",
    "        print(end=\" \")\n",
    "    k -= 1\n",
    "    for j in range(0,i+1):\n",
    "            print(\"*\",end=\"\")\n",
    "    print(\"\")"
   ]
  },
  {
   "cell_type": "code",
   "execution_count": 54,
   "metadata": {},
   "outputs": [
    {
     "name": "stdout",
     "output_type": "stream",
     "text": [
      "Enter no. of lines5\n",
      "     *\n",
      "\n",
      "    **\n",
      "\n",
      "   ***\n",
      "\n",
      "  ********\n",
      "\n",
      " ***************\n",
      "\n",
      "************************\n",
      "\n"
     ]
    }
   ],
   "source": [
    "x = int(input(\"Enter no. of lines\"))\n",
    "k = x\n",
    "for i in range(0,x+1):\n",
    "    for j in range(0,k):\n",
    "        print(end=\" \")\n",
    "    k -= 1\n",
    "    for j in range(0,i+1):\n",
    "        print(\"*\",end=\"\")\n",
    "        for j in range(3,i+1):\n",
    "            print(\"*\",end=\"\")\n",
    "    print(\"\\n\")\n",
    "    print(\"\",end=\"\")"
   ]
  },
  {
   "cell_type": "code",
   "execution_count": 61,
   "metadata": {},
   "outputs": [
    {
     "name": "stdout",
     "output_type": "stream",
     "text": [
      "Enter no. of lines5\n",
      "\n",
      "\n",
      " 1 \n",
      "\n",
      " 2  2 \n",
      "\n",
      " 3  3  3 \n",
      "\n",
      " 4  4  4  4 \n",
      "\n"
     ]
    }
   ],
   "source": [
    "x = int(input(\"Enter no. of lines\"))\n",
    "for i in range(0,x):\n",
    "    for j in range(1,i+1):\n",
    "        print(\" {} \".format(i),end=\"\")\n",
    "    print(\"\\n\")\n"
   ]
  },
  {
   "cell_type": "code",
   "execution_count": 62,
   "metadata": {},
   "outputs": [
    {
     "name": "stdout",
     "output_type": "stream",
     "text": [
      "Enter no. of lines5\n",
      "\n",
      "\n",
      " 1 \n",
      "\n",
      " 1  2 \n",
      "\n",
      " 1  2  3 \n",
      "\n",
      " 1  2  3  4 \n",
      "\n"
     ]
    }
   ],
   "source": [
    "x = int(input(\"Enter no. of lines\"))\n",
    "for i in range(0,x):\n",
    "    for j in range(1,i+1):\n",
    "        print(\" {} \".format(j),end=\"\")\n",
    "    print(\"\\n\")"
   ]
  },
  {
   "cell_type": "code",
   "execution_count": 67,
   "metadata": {},
   "outputs": [
    {
     "name": "stdout",
     "output_type": "stream",
     "text": [
      "Enter no. of lines5\n",
      "\n",
      "\n",
      " 0 \n",
      "\n",
      " 1  2 \n",
      "\n",
      " 3  4  5 \n",
      "\n",
      " 6  7  8  9 \n",
      "\n"
     ]
    }
   ],
   "source": [
    "x = int(input(\"Enter no. of lines\"))\n",
    "k = 0\n",
    "for i in range(0,x):\n",
    "    for j in range(1,i+1):\n",
    "        print(\" {} \".format(k),end=\"\")\n",
    "        k += 1\n",
    "    print(\"\\n\")"
   ]
  },
  {
   "cell_type": "code",
   "execution_count": 2,
   "metadata": {},
   "outputs": [
    {
     "name": "stdout",
     "output_type": "stream",
     "text": [
      "A \n",
      "A B \n",
      "A B C \n",
      "A B C D \n",
      "A B C D E \n"
     ]
    }
   ],
   "source": [
    "for i in range(0,5):\n",
    "    num = 65\n",
    "    for j in range(0,i+1):\n",
    "        ch = chr(num)\n",
    "        print(ch, end = \" \")\n",
    "        num = num + 1\n",
    "    print()"
   ]
  },
  {
   "cell_type": "code",
   "execution_count": 4,
   "metadata": {},
   "outputs": [
    {
     "name": "stdout",
     "output_type": "stream",
     "text": [
      "A \n",
      "B C \n",
      "D E F \n",
      "G H I J \n",
      "K L M N O \n"
     ]
    }
   ],
   "source": [
    "num = 65\n",
    "for i in range (0,5):\n",
    "    for j in range(0,i+1):\n",
    "        ch = chr(num)\n",
    "        print(ch , end = \" \")\n",
    "        num = num + 1\n",
    "    print()"
   ]
  },
  {
   "cell_type": "code",
   "execution_count": 6,
   "metadata": {},
   "outputs": [
    {
     "name": "stdout",
     "output_type": "stream",
     "text": [
      "A \n",
      "B B \n",
      "C C C \n",
      "D D D D \n",
      "E E E E E \n"
     ]
    }
   ],
   "source": [
    "num = 65\n",
    "for i in range(0,5):\n",
    "    for j in range(0,i+1):\n",
    "        ch = chr(num)\n",
    "        print(ch , end = \" \")\n",
    "    num = num + 1\n",
    "    print()"
   ]
  },
  {
   "cell_type": "code",
   "execution_count": 9,
   "metadata": {},
   "outputs": [
    {
     "name": "stdout",
     "output_type": "stream",
     "text": [
      "* * * * * \n",
      "  * * * * \n",
      "    * * * \n",
      "      * * \n",
      "        * \n"
     ]
    }
   ],
   "source": [
    "t = 5\n",
    "for i in range(0,5):\n",
    "    for k in range(t,5,-1):\n",
    "        print(end = \" \")\n",
    "    t = t + 2 \n",
    "    for j in range(5,i,-1):\n",
    "        print(\"*\", end = \" \")\n",
    "    print()"
   ]
  },
  {
   "cell_type": "code",
   "execution_count": null,
   "metadata": {
    "collapsed": true
   },
   "outputs": [],
   "source": []
  }
 ],
 "metadata": {
  "kernelspec": {
   "display_name": "Python 3",
   "language": "python",
   "name": "python3"
  },
  "language_info": {
   "codemirror_mode": {
    "name": "ipython",
    "version": 3
   },
   "file_extension": ".py",
   "mimetype": "text/x-python",
   "name": "python",
   "nbconvert_exporter": "python",
   "pygments_lexer": "ipython3",
   "version": "3.6.3"
  }
 },
 "nbformat": 4,
 "nbformat_minor": 2
}
