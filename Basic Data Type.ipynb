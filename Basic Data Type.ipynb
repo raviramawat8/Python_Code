{
 "cells": [
  {
   "cell_type": "markdown",
   "metadata": {},
   "source": [
    "# List Data Type in Python."
   ]
  },
  {
   "cell_type": "markdown",
   "metadata": {},
   "source": [
    "List is a mutable data type in python so we can add or remove elements from lists.\n",
    "list is also a sequence data type.\n",
    "List is a collection of different different data types or they can be similar in general a list is a collection of items where items can any type of data type in python."
   ]
  },
  {
   "cell_type": "code",
   "execution_count": 2,
   "metadata": {},
   "outputs": [
    {
     "name": "stdout",
     "output_type": "stream",
     "text": [
      "['hello', 'hi', 'how are you']\n",
      "how are you\n",
      "[45, 12, 67, 12, 43, 1, 6, 8]\n",
      "13\n"
     ]
    }
   ],
   "source": [
    "l = [ 'hello','hi','how are you' ] #Homogenous List\n",
    "print(l)\n",
    "print(l[2])\n",
    "l = [ 56,23,45,12,67,12,43,1,6,8,6,33,12 ]\n",
    "print(l[2:10])\n",
    "print(len(l))"
   ]
  },
  {
   "cell_type": "code",
   "execution_count": null,
   "metadata": {
    "collapsed": true
   },
   "outputs": [],
   "source": [
    "#Common Function on Python List\n",
    "#sort()->it will sort list in ascending"
   ]
  }
 ],
 "metadata": {
  "kernelspec": {
   "display_name": "Python 3",
   "language": "python",
   "name": "python3"
  },
  "language_info": {
   "codemirror_mode": {
    "name": "ipython",
    "version": 3
   },
   "file_extension": ".py",
   "mimetype": "text/x-python",
   "name": "python",
   "nbconvert_exporter": "python",
   "pygments_lexer": "ipython3",
   "version": "3.6.3"
  }
 },
 "nbformat": 4,
 "nbformat_minor": 2
}
