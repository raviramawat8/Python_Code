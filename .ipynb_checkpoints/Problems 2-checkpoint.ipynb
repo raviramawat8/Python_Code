{
 "cells": [
  {
   "cell_type": "markdown",
   "metadata": {},
   "source": [
    "# Prime no."
   ]
  },
  {
   "cell_type": "code",
   "execution_count": 6,
   "metadata": {},
   "outputs": [
    {
     "name": "stdout",
     "output_type": "stream",
     "text": [
      "Enter a Number : 15\n",
      "Not Prime\n"
     ]
    }
   ],
   "source": [
    "num = int(input(\"Enter a Number : \"))\n",
    "if num <= 1 :\n",
    "    print(\"Not Prime\")\n",
    "    print(\"Error!This is not valid input to check prime\")\n",
    "    exit(0)\n",
    "elif num <= 3 :\n",
    "    print(\"Prime\")\n",
    "    exit(0)\n",
    "check = 2\n",
    "import math\n",
    "sq = math.sqrt(num)\n",
    "sq = int(sq) + 1\n",
    "\n",
    "for check in range (2,sq+1,1):\n",
    "    \n",
    "    k = num % check \n",
    "    if k == 0 :\n",
    "        print(\"Not Prime\")\n",
    "        break\n",
    "    elif check == sq :\n",
    "        print(\"Prime\")\n",
    "        "
   ]
  },
  {
   "cell_type": "markdown",
   "metadata": {},
   "source": [
    "# Prime2"
   ]
  },
  {
   "cell_type": "code",
   "execution_count": 1,
   "metadata": {},
   "outputs": [
    {
     "name": "stdout",
     "output_type": "stream",
     "text": [
      "Enter start Point : 5\n",
      "Enter ending Point : 50\n",
      "5\t7\t11\t13\t17\t19\t23\t29\t31\t37\t41\t43\t47\t"
     ]
    }
   ],
   "source": [
    "s = int(input(\"Enter start Point : \"))\n",
    "e = int(input(\"Enter ending Point : \"))\n",
    "import math\n",
    "for s in range(s,e,1):\n",
    "    num = s\n",
    "    if num <= 1 :\n",
    "        exit(0)\n",
    "    elif num <= 3 :\n",
    "        print(num,end='\\t')\n",
    "        exit(0)\n",
    "    sq = math.sqrt(num)\n",
    "    sq = int(sq) + 1\n",
    "\n",
    "    for check in range(2,sq+1):\n",
    "    \n",
    "        k = num % check \n",
    "        if k == 0 :\n",
    "            break\n",
    "        elif check == sq :\n",
    "            print(num,end='\\t')"
   ]
  },
  {
   "cell_type": "markdown",
   "metadata": {},
   "source": [
    "# Palindrome"
   ]
  },
  {
   "cell_type": "code",
   "execution_count": 18,
   "metadata": {},
   "outputs": [
    {
     "name": "stdout",
     "output_type": "stream",
     "text": [
      "Enter a number121\n",
      "Not a Palindrome\n",
      "Length = 10\n"
     ]
    }
   ],
   "source": [
    "a1 = int(input(\"Enter a number\"))\n",
    "num = a1\n",
    "count = 0\n",
    "res = 0\n",
    "x=0\n",
    "for i in range(0,10):\n",
    "    x = a1 % 10\n",
    "    res = res*10 + x\n",
    "    a1 = a1 // 10\n",
    "    count += 1\n",
    "if num == res:\n",
    "    print(\"This no. is Palindrome\")\n",
    "else:\n",
    "    print(\"Not a Palindrome\")\n",
    "print(\"Length = {}\".format(count))"
   ]
  },
  {
   "cell_type": "markdown",
   "metadata": {},
   "source": [
    "# Fibo1"
   ]
  },
  {
   "cell_type": "code",
   "execution_count": 25,
   "metadata": {},
   "outputs": [
    {
     "name": "stdout",
     "output_type": "stream",
     "text": [
      "Enter the no of terms10\n",
      "1\n",
      "2\n",
      "3\n",
      "5\n",
      "8\n",
      "13\n",
      "21\n",
      "34\n",
      "55\n"
     ]
    }
   ],
   "source": [
    "num = int(input(\"Enter the no of terms\"))\n",
    "x = 0\n",
    "y = 1\n",
    "a = 0\n",
    "for a in range(1,num):\n",
    "    z = x + y\n",
    "    x = y\n",
    "    y = z\n",
    "    print(z)\n"
   ]
  },
  {
   "cell_type": "markdown",
   "metadata": {},
   "source": [
    "# Fibo2"
   ]
  },
  {
   "cell_type": "code",
   "execution_count": 27,
   "metadata": {},
   "outputs": [
    {
     "name": "stdout",
     "output_type": "stream",
     "text": [
      "Enter the no of terms10\n",
      "Enter the First no.1\n",
      "Enter the Second no.2\n",
      "3\n",
      "5\n",
      "8\n",
      "13\n",
      "21\n",
      "34\n",
      "55\n",
      "89\n",
      "144\n"
     ]
    }
   ],
   "source": [
    "num = int(input(\"Enter the no of terms\"))\n",
    "x = int(input(\"Enter the First no.\"))\n",
    "y = int(input(\"Enter the Second no.\"))\n",
    "a = 0\n",
    "for i in range(1,num):\n",
    "    z = x + y\n",
    "    x = y\n",
    "    y = z\n",
    "    a += 1\n",
    "    print(z)"
   ]
  },
  {
   "cell_type": "markdown",
   "metadata": {},
   "source": [
    "# Armstrong"
   ]
  },
  {
   "cell_type": "code",
   "execution_count": 30,
   "metadata": {},
   "outputs": [
    {
     "name": "stdout",
     "output_type": "stream",
     "text": [
      "Enter a number407\n",
      "The Number is Armstrong no.\n"
     ]
    }
   ],
   "source": [
    "x = int(input(\"Enter a number\"))\n",
    "n = x\n",
    "sum = 0\n",
    "for i in range(0,n):\n",
    "    a = n % 10\n",
    "    sum += a ** 3\n",
    "    n //= 10\n",
    "if x == sum:\n",
    "    print(\"The Number is Armstrong no.\")\n",
    "else:\n",
    "    print(\"Not Armstrong\")\n"
   ]
  },
  {
   "cell_type": "code",
   "execution_count": null,
   "metadata": {
    "collapsed": true
   },
   "outputs": [],
   "source": []
  }
 ],
 "metadata": {
  "kernelspec": {
   "display_name": "Python 3",
   "language": "python",
   "name": "python3"
  },
  "language_info": {
   "codemirror_mode": {
    "name": "ipython",
    "version": 3
   },
   "file_extension": ".py",
   "mimetype": "text/x-python",
   "name": "python",
   "nbconvert_exporter": "python",
   "pygments_lexer": "ipython3",
   "version": "3.6.3"
  }
 },
 "nbformat": 4,
 "nbformat_minor": 2
}
